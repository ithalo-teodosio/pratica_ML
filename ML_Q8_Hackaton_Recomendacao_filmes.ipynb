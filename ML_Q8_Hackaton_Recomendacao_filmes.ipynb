{
  "nbformat": 4,
  "nbformat_minor": 0,
  "metadata": {
    "colab": {
      "provenance": [],
      "authorship_tag": "ABX9TyPbY5+BY9o5mxWV5hUs6ygF",
      "include_colab_link": true
    },
    "kernelspec": {
      "name": "python3",
      "display_name": "Python 3"
    },
    "language_info": {
      "name": "python"
    }
  },
  "cells": [
    {
      "cell_type": "markdown",
      "metadata": {
        "id": "view-in-github",
        "colab_type": "text"
      },
      "source": [
        "<a href=\"https://colab.research.google.com/github/ithalo-teodosio/pratica_ML/blob/main/ML_Q8_Hackaton_Recomendacao_filmes.ipynb\" target=\"_parent\"><img src=\"https://colab.research.google.com/assets/colab-badge.svg\" alt=\"Open In Colab\"/></a>"
      ]
    },
    {
      "cell_type": "code",
      "execution_count": null,
      "metadata": {
        "id": "rnVDMkmJDTTZ"
      },
      "outputs": [],
      "source": [
        "# Instituição: Unifacisa\n",
        "# Autor: Ithalo Teodósio Nascimento\n",
        "# Q8: Recomendação de filmes com filtragem colaborativa"
      ]
    },
    {
      "cell_type": "markdown",
      "source": [
        "**Questão 8 (avançado) - Recomendação de Filmes com Filtragem Colaborativa**\n",
        "\n",
        "Uma plataforma de streaming deseja sugerir filmes para os usuários com base nas avaliações de outros usuários.\n",
        "\n",
        "Tarefas:\n",
        "\n",
        "- Utilize um dataset de avaliações de filmes (exemplo: MovieLens).\n",
        "- Implemente um modelo de filtragem colaborativa baseado em usuários e itens.\n",
        "- Compare a filtragem colaborativa com abordagens baseadas em aprendizado profundo (exemplo: Autoencoders).\n",
        "- Avalie o desempenho com métricas como RMSE e MAE.\n",
        "\n",
        "Pergunta: Qual abordagem foi mais eficiente na recomendação de filmes? Como melhorar o sistema de recomendação?"
      ],
      "metadata": {
        "id": "Fimeu1c3Dm9J"
      }
    },
    {
      "cell_type": "code",
      "source": [
        "# Instalar a biblioteca do TensorFlow\n",
        "!pip install tensorflow --quiet\n",
        "\n",
        "# Bibliotecas\n",
        "import pandas as pd\n",
        "import numpy as np\n",
        "\n",
        "from sklearn.metrics import mean_squared_error, mean_absolute_error\n",
        "from sklearn.model_selection import train_test_split\n",
        "from sklearn.metrics.pairwise import cosine_similarity\n",
        "\n",
        "from tensorflow.keras.models import Model\n",
        "from tensorflow.keras.layers import Input, Dense\n"
      ],
      "metadata": {
        "id": "Jp64YPMXGhBr"
      },
      "execution_count": 1,
      "outputs": []
    },
    {
      "cell_type": "code",
      "source": [
        "# Carregando direto da web\n",
        "url = \"https://files.grouplens.org/datasets/movielens/ml-100k/u.data\"\n",
        "colunas = ['user_id', 'item_id', 'rating', 'timestamp']\n",
        "df = pd.read_csv(url, sep=\"\\t\", names=colunas)\n",
        "df.drop('timestamp', axis=1, inplace=True)\n",
        "\n",
        "df.head()"
      ],
      "metadata": {
        "colab": {
          "base_uri": "https://localhost:8080/",
          "height": 204
        },
        "id": "69xUMKI3GufP",
        "outputId": "ad9b5028-2501-4888-fbb0-b8ba79fb974c"
      },
      "execution_count": 2,
      "outputs": [
        {
          "output_type": "execute_result",
          "data": {
            "text/plain": [
              "   user_id  item_id  rating\n",
              "0      196      242       3\n",
              "1      186      302       3\n",
              "2       22      377       1\n",
              "3      244       51       2\n",
              "4      166      346       1"
            ],
            "text/html": [
              "\n",
              "  <div id=\"df-7ac6fa20-286f-4d13-b0da-098d043961b5\" class=\"colab-df-container\">\n",
              "    <div>\n",
              "<style scoped>\n",
              "    .dataframe tbody tr th:only-of-type {\n",
              "        vertical-align: middle;\n",
              "    }\n",
              "\n",
              "    .dataframe tbody tr th {\n",
              "        vertical-align: top;\n",
              "    }\n",
              "\n",
              "    .dataframe thead th {\n",
              "        text-align: right;\n",
              "    }\n",
              "</style>\n",
              "<table border=\"1\" class=\"dataframe\">\n",
              "  <thead>\n",
              "    <tr style=\"text-align: right;\">\n",
              "      <th></th>\n",
              "      <th>user_id</th>\n",
              "      <th>item_id</th>\n",
              "      <th>rating</th>\n",
              "    </tr>\n",
              "  </thead>\n",
              "  <tbody>\n",
              "    <tr>\n",
              "      <th>0</th>\n",
              "      <td>196</td>\n",
              "      <td>242</td>\n",
              "      <td>3</td>\n",
              "    </tr>\n",
              "    <tr>\n",
              "      <th>1</th>\n",
              "      <td>186</td>\n",
              "      <td>302</td>\n",
              "      <td>3</td>\n",
              "    </tr>\n",
              "    <tr>\n",
              "      <th>2</th>\n",
              "      <td>22</td>\n",
              "      <td>377</td>\n",
              "      <td>1</td>\n",
              "    </tr>\n",
              "    <tr>\n",
              "      <th>3</th>\n",
              "      <td>244</td>\n",
              "      <td>51</td>\n",
              "      <td>2</td>\n",
              "    </tr>\n",
              "    <tr>\n",
              "      <th>4</th>\n",
              "      <td>166</td>\n",
              "      <td>346</td>\n",
              "      <td>1</td>\n",
              "    </tr>\n",
              "  </tbody>\n",
              "</table>\n",
              "</div>\n",
              "    <div class=\"colab-df-buttons\">\n",
              "\n",
              "  <div class=\"colab-df-container\">\n",
              "    <button class=\"colab-df-convert\" onclick=\"convertToInteractive('df-7ac6fa20-286f-4d13-b0da-098d043961b5')\"\n",
              "            title=\"Convert this dataframe to an interactive table.\"\n",
              "            style=\"display:none;\">\n",
              "\n",
              "  <svg xmlns=\"http://www.w3.org/2000/svg\" height=\"24px\" viewBox=\"0 -960 960 960\">\n",
              "    <path d=\"M120-120v-720h720v720H120Zm60-500h600v-160H180v160Zm220 220h160v-160H400v160Zm0 220h160v-160H400v160ZM180-400h160v-160H180v160Zm440 0h160v-160H620v160ZM180-180h160v-160H180v160Zm440 0h160v-160H620v160Z\"/>\n",
              "  </svg>\n",
              "    </button>\n",
              "\n",
              "  <style>\n",
              "    .colab-df-container {\n",
              "      display:flex;\n",
              "      gap: 12px;\n",
              "    }\n",
              "\n",
              "    .colab-df-convert {\n",
              "      background-color: #E8F0FE;\n",
              "      border: none;\n",
              "      border-radius: 50%;\n",
              "      cursor: pointer;\n",
              "      display: none;\n",
              "      fill: #1967D2;\n",
              "      height: 32px;\n",
              "      padding: 0 0 0 0;\n",
              "      width: 32px;\n",
              "    }\n",
              "\n",
              "    .colab-df-convert:hover {\n",
              "      background-color: #E2EBFA;\n",
              "      box-shadow: 0px 1px 2px rgba(60, 64, 67, 0.3), 0px 1px 3px 1px rgba(60, 64, 67, 0.15);\n",
              "      fill: #174EA6;\n",
              "    }\n",
              "\n",
              "    .colab-df-buttons div {\n",
              "      margin-bottom: 4px;\n",
              "    }\n",
              "\n",
              "    [theme=dark] .colab-df-convert {\n",
              "      background-color: #3B4455;\n",
              "      fill: #D2E3FC;\n",
              "    }\n",
              "\n",
              "    [theme=dark] .colab-df-convert:hover {\n",
              "      background-color: #434B5C;\n",
              "      box-shadow: 0px 1px 3px 1px rgba(0, 0, 0, 0.15);\n",
              "      filter: drop-shadow(0px 1px 2px rgba(0, 0, 0, 0.3));\n",
              "      fill: #FFFFFF;\n",
              "    }\n",
              "  </style>\n",
              "\n",
              "    <script>\n",
              "      const buttonEl =\n",
              "        document.querySelector('#df-7ac6fa20-286f-4d13-b0da-098d043961b5 button.colab-df-convert');\n",
              "      buttonEl.style.display =\n",
              "        google.colab.kernel.accessAllowed ? 'block' : 'none';\n",
              "\n",
              "      async function convertToInteractive(key) {\n",
              "        const element = document.querySelector('#df-7ac6fa20-286f-4d13-b0da-098d043961b5');\n",
              "        const dataTable =\n",
              "          await google.colab.kernel.invokeFunction('convertToInteractive',\n",
              "                                                    [key], {});\n",
              "        if (!dataTable) return;\n",
              "\n",
              "        const docLinkHtml = 'Like what you see? Visit the ' +\n",
              "          '<a target=\"_blank\" href=https://colab.research.google.com/notebooks/data_table.ipynb>data table notebook</a>'\n",
              "          + ' to learn more about interactive tables.';\n",
              "        element.innerHTML = '';\n",
              "        dataTable['output_type'] = 'display_data';\n",
              "        await google.colab.output.renderOutput(dataTable, element);\n",
              "        const docLink = document.createElement('div');\n",
              "        docLink.innerHTML = docLinkHtml;\n",
              "        element.appendChild(docLink);\n",
              "      }\n",
              "    </script>\n",
              "  </div>\n",
              "\n",
              "\n",
              "<div id=\"df-53376815-79c6-4cb2-bf37-17e518c12700\">\n",
              "  <button class=\"colab-df-quickchart\" onclick=\"quickchart('df-53376815-79c6-4cb2-bf37-17e518c12700')\"\n",
              "            title=\"Suggest charts\"\n",
              "            style=\"display:none;\">\n",
              "\n",
              "<svg xmlns=\"http://www.w3.org/2000/svg\" height=\"24px\"viewBox=\"0 0 24 24\"\n",
              "     width=\"24px\">\n",
              "    <g>\n",
              "        <path d=\"M19 3H5c-1.1 0-2 .9-2 2v14c0 1.1.9 2 2 2h14c1.1 0 2-.9 2-2V5c0-1.1-.9-2-2-2zM9 17H7v-7h2v7zm4 0h-2V7h2v10zm4 0h-2v-4h2v4z\"/>\n",
              "    </g>\n",
              "</svg>\n",
              "  </button>\n",
              "\n",
              "<style>\n",
              "  .colab-df-quickchart {\n",
              "      --bg-color: #E8F0FE;\n",
              "      --fill-color: #1967D2;\n",
              "      --hover-bg-color: #E2EBFA;\n",
              "      --hover-fill-color: #174EA6;\n",
              "      --disabled-fill-color: #AAA;\n",
              "      --disabled-bg-color: #DDD;\n",
              "  }\n",
              "\n",
              "  [theme=dark] .colab-df-quickchart {\n",
              "      --bg-color: #3B4455;\n",
              "      --fill-color: #D2E3FC;\n",
              "      --hover-bg-color: #434B5C;\n",
              "      --hover-fill-color: #FFFFFF;\n",
              "      --disabled-bg-color: #3B4455;\n",
              "      --disabled-fill-color: #666;\n",
              "  }\n",
              "\n",
              "  .colab-df-quickchart {\n",
              "    background-color: var(--bg-color);\n",
              "    border: none;\n",
              "    border-radius: 50%;\n",
              "    cursor: pointer;\n",
              "    display: none;\n",
              "    fill: var(--fill-color);\n",
              "    height: 32px;\n",
              "    padding: 0;\n",
              "    width: 32px;\n",
              "  }\n",
              "\n",
              "  .colab-df-quickchart:hover {\n",
              "    background-color: var(--hover-bg-color);\n",
              "    box-shadow: 0 1px 2px rgba(60, 64, 67, 0.3), 0 1px 3px 1px rgba(60, 64, 67, 0.15);\n",
              "    fill: var(--button-hover-fill-color);\n",
              "  }\n",
              "\n",
              "  .colab-df-quickchart-complete:disabled,\n",
              "  .colab-df-quickchart-complete:disabled:hover {\n",
              "    background-color: var(--disabled-bg-color);\n",
              "    fill: var(--disabled-fill-color);\n",
              "    box-shadow: none;\n",
              "  }\n",
              "\n",
              "  .colab-df-spinner {\n",
              "    border: 2px solid var(--fill-color);\n",
              "    border-color: transparent;\n",
              "    border-bottom-color: var(--fill-color);\n",
              "    animation:\n",
              "      spin 1s steps(1) infinite;\n",
              "  }\n",
              "\n",
              "  @keyframes spin {\n",
              "    0% {\n",
              "      border-color: transparent;\n",
              "      border-bottom-color: var(--fill-color);\n",
              "      border-left-color: var(--fill-color);\n",
              "    }\n",
              "    20% {\n",
              "      border-color: transparent;\n",
              "      border-left-color: var(--fill-color);\n",
              "      border-top-color: var(--fill-color);\n",
              "    }\n",
              "    30% {\n",
              "      border-color: transparent;\n",
              "      border-left-color: var(--fill-color);\n",
              "      border-top-color: var(--fill-color);\n",
              "      border-right-color: var(--fill-color);\n",
              "    }\n",
              "    40% {\n",
              "      border-color: transparent;\n",
              "      border-right-color: var(--fill-color);\n",
              "      border-top-color: var(--fill-color);\n",
              "    }\n",
              "    60% {\n",
              "      border-color: transparent;\n",
              "      border-right-color: var(--fill-color);\n",
              "    }\n",
              "    80% {\n",
              "      border-color: transparent;\n",
              "      border-right-color: var(--fill-color);\n",
              "      border-bottom-color: var(--fill-color);\n",
              "    }\n",
              "    90% {\n",
              "      border-color: transparent;\n",
              "      border-bottom-color: var(--fill-color);\n",
              "    }\n",
              "  }\n",
              "</style>\n",
              "\n",
              "  <script>\n",
              "    async function quickchart(key) {\n",
              "      const quickchartButtonEl =\n",
              "        document.querySelector('#' + key + ' button');\n",
              "      quickchartButtonEl.disabled = true;  // To prevent multiple clicks.\n",
              "      quickchartButtonEl.classList.add('colab-df-spinner');\n",
              "      try {\n",
              "        const charts = await google.colab.kernel.invokeFunction(\n",
              "            'suggestCharts', [key], {});\n",
              "      } catch (error) {\n",
              "        console.error('Error during call to suggestCharts:', error);\n",
              "      }\n",
              "      quickchartButtonEl.classList.remove('colab-df-spinner');\n",
              "      quickchartButtonEl.classList.add('colab-df-quickchart-complete');\n",
              "    }\n",
              "    (() => {\n",
              "      let quickchartButtonEl =\n",
              "        document.querySelector('#df-53376815-79c6-4cb2-bf37-17e518c12700 button');\n",
              "      quickchartButtonEl.style.display =\n",
              "        google.colab.kernel.accessAllowed ? 'block' : 'none';\n",
              "    })();\n",
              "  </script>\n",
              "</div>\n",
              "\n",
              "    </div>\n",
              "  </div>\n"
            ],
            "application/vnd.google.colaboratory.intrinsic+json": {
              "type": "dataframe",
              "variable_name": "df",
              "summary": "{\n  \"name\": \"df\",\n  \"rows\": 100000,\n  \"fields\": [\n    {\n      \"column\": \"user_id\",\n      \"properties\": {\n        \"dtype\": \"number\",\n        \"std\": 266,\n        \"min\": 1,\n        \"max\": 943,\n        \"num_unique_values\": 943,\n        \"samples\": [\n          262,\n          136,\n          821\n        ],\n        \"semantic_type\": \"\",\n        \"description\": \"\"\n      }\n    },\n    {\n      \"column\": \"item_id\",\n      \"properties\": {\n        \"dtype\": \"number\",\n        \"std\": 330,\n        \"min\": 1,\n        \"max\": 1682,\n        \"num_unique_values\": 1682,\n        \"samples\": [\n          1557,\n          808,\n          1618\n        ],\n        \"semantic_type\": \"\",\n        \"description\": \"\"\n      }\n    },\n    {\n      \"column\": \"rating\",\n      \"properties\": {\n        \"dtype\": \"number\",\n        \"std\": 1,\n        \"min\": 1,\n        \"max\": 5,\n        \"num_unique_values\": 5,\n        \"samples\": [\n          1,\n          5,\n          2\n        ],\n        \"semantic_type\": \"\",\n        \"description\": \"\"\n      }\n    }\n  ]\n}"
            }
          },
          "metadata": {},
          "execution_count": 2
        }
      ]
    },
    {
      "cell_type": "code",
      "source": [
        "# Criando matriz de usuários x itens\n",
        "matriz = df.pivot_table(index='user_id', columns='item_id', values='rating').fillna(0)\n",
        "\n",
        "# Calculando a similaridade entre usuários\n",
        "similaridade = cosine_similarity(matriz)\n",
        "\n",
        "# Função simples para prever nota com base em usuários parecidos\n",
        "def prever(user_id, item_id):\n",
        "    notas_item = matriz[item_id]\n",
        "    similaridades = similaridade[user_id - 1]  # IDs começam em 1\n",
        "    mascara = notas_item > 0\n",
        "    if mascara.sum() == 0:\n",
        "        return matriz.loc[user_id].mean()\n",
        "    notas = notas_item[mascara]\n",
        "    sims = similaridades[mascara]\n",
        "    return np.dot(notas, sims) / sims.sum()"
      ],
      "metadata": {
        "id": "mcRjmOokGyvJ"
      },
      "execution_count": 3,
      "outputs": []
    },
    {
      "cell_type": "code",
      "source": [
        "# Separando dados em treino e teste\n",
        "treino, teste = train_test_split(df, test_size=0.2, random_state=42)\n",
        "\n",
        "# Prevendo para o teste\n",
        "teste = teste.copy()\n",
        "teste['previsao'] = teste.apply(lambda row: prever(row['user_id'], row['item_id']), axis=1)\n",
        "\n",
        "# Erros\n",
        "rmse_cf = np.sqrt(mean_squared_error(teste['rating'], teste['previsao']))\n",
        "mae_cf = mean_absolute_error(teste['rating'], teste['previsao'])\n",
        "\n",
        "print(f\"📈 CF → RMSE: {rmse_cf:.2f} | MAE: {mae_cf:.2f}\")"
      ],
      "metadata": {
        "colab": {
          "base_uri": "https://localhost:8080/"
        },
        "id": "DwS07xGdG2Xe",
        "outputId": "ba2d4545-cc32-4fd4-ce67-c42b1f849aef"
      },
      "execution_count": 5,
      "outputs": [
        {
          "output_type": "stream",
          "name": "stdout",
          "text": [
            "📈 CF → RMSE: 0.95 | MAE: 0.76\n"
          ]
        }
      ]
    },
    {
      "cell_type": "code",
      "source": [
        "# Pegando os dados da matriz de usuário x item\n",
        "X = matriz.values\n",
        "\n",
        "# Autoencoder básico: entrada → camada escondida → saída\n",
        "entrada = Input(shape=(X.shape[1],))\n",
        "escondida = Dense(64, activation='relu')(entrada)\n",
        "saida = Dense(X.shape[1], activation='linear')(escondida)\n",
        "\n",
        "modelo = Model(entrada, saida)\n",
        "modelo.compile(optimizer='adam', loss='mse')\n",
        "\n",
        "# Treinando (usando os próprios dados como entrada e saída)\n",
        "modelo.fit(X, X, epochs=10, batch_size=64, verbose=0)"
      ],
      "metadata": {
        "colab": {
          "base_uri": "https://localhost:8080/"
        },
        "id": "WOCZksIxHciT",
        "outputId": "63be8fa6-e22a-4713-9e48-ed72a28a532a"
      },
      "execution_count": 6,
      "outputs": [
        {
          "output_type": "execute_result",
          "data": {
            "text/plain": [
              "<keras.src.callbacks.history.History at 0x7dbb616bf290>"
            ]
          },
          "metadata": {},
          "execution_count": 6
        }
      ]
    },
    {
      "cell_type": "code",
      "source": [
        "# Previsões\n",
        "preds = modelo.predict(X)\n",
        "\n",
        "# Avaliando só onde havia nota (para não considerar os zeros)\n",
        "mascara = X > 0\n",
        "rmse_ae = np.sqrt(mean_squared_error(X[mascara], preds[mascara]))\n",
        "mae_ae = mean_absolute_error(X[mascara], preds[mascara])\n",
        "\n",
        "print(f\"🧠 Autoencoder → RMSE: {rmse_ae:.2f} | MAE: {mae_ae:.2f}\")"
      ],
      "metadata": {
        "colab": {
          "base_uri": "https://localhost:8080/"
        },
        "id": "g32Nw6CLHger",
        "outputId": "f91c0505-6a81-4546-8cd4-f6820c57d3cb"
      },
      "execution_count": 8,
      "outputs": [
        {
          "output_type": "stream",
          "name": "stdout",
          "text": [
            "\u001b[1m30/30\u001b[0m \u001b[32m━━━━━━━━━━━━━━━━━━━━\u001b[0m\u001b[37m\u001b[0m \u001b[1m0s\u001b[0m 2ms/step \n",
            "🧠 Autoencoder → RMSE: 2.22 | MAE: 1.91\n"
          ]
        }
      ]
    },
    {
      "cell_type": "code",
      "source": [
        "print(\"📊 Comparando os modelos:\")\n",
        "print(f\"Filtragem Colaborativa → RMSE: {rmse_cf:.2f} | MAE: {mae_cf:.2f}\")\n",
        "print(f\"Autoencoder            → RMSE: {rmse_ae:.2f} | MAE: {mae_ae:.2f}\")"
      ],
      "metadata": {
        "colab": {
          "base_uri": "https://localhost:8080/"
        },
        "id": "m_KWC-u0H13r",
        "outputId": "5eca56f6-251c-44ef-9bb3-189695522205"
      },
      "execution_count": 9,
      "outputs": [
        {
          "output_type": "stream",
          "name": "stdout",
          "text": [
            "📊 Comparando os modelos:\n",
            "Filtragem Colaborativa → RMSE: 0.95 | MAE: 0.76\n",
            "Autoencoder            → RMSE: 2.22 | MAE: 1.91\n"
          ]
        }
      ]
    },
    {
      "cell_type": "markdown",
      "source": [
        "**Conclusão:**\n",
        "\n",
        "**Filtragem Colaborativa** é simples, rápida e funciona bem com dados menores.\n",
        "\n",
        "**Autoencoder** aprende padrões mais profundos, mas precisa de mais dados e processamento.\n",
        "\n",
        "Para melhorar:\n",
        "\n",
        "- Use mais dados (ex: MovieLens 1M)\n",
        "\n",
        "- Adicione informações extras (gênero, idade, tipo de filme)\n",
        "\n",
        "- Teste outros modelos como Matrix Factorization ou Redes Neurais mais profundas."
      ],
      "metadata": {
        "id": "D5ooBdoDILSg"
      }
    }
  ]
}